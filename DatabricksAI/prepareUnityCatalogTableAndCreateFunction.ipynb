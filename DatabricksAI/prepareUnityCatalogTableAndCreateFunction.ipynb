{
 "cells": [
  {
   "cell_type": "code",
   "execution_count": 0,
   "metadata": {
    "application/vnd.databricks.v1+cell": {
     "cellMetadata": {
      "byteLimit": 2048000,
      "rowLimit": 10000
     },
     "inputWidgets": {},
     "nuid": "e2052cae-5393-49ef-83ec-327fea793127",
     "showTitle": false,
     "tableResultSettingsMap": {},
     "title": ""
    }
   },
   "outputs": [],
   "source": [
    "data = [\n",
    "    (1, 'vivek', 50),\n",
    "    (2, 'somu', 20),\n",
    "    (3, 'john', 30),\n",
    "    (4, 'jane', 40),\n",
    "    (5, 'doe', 25),\n",
    "    (6, 'alice', 35),\n",
    "    (7, 'bob', 45),\n",
    "    (8, 'charlie', 55),\n",
    "    (9, 'dave', 60),\n",
    "    (10, 'eve', 65),\n",
    "    (11, 'frank', 70),\n",
    "    (12, 'grace', 75),\n",
    "    (13, 'heidi', 80)\n",
    "]\n",
    "\n",
    "columns = ['id','employee_name','salary']\n",
    "df = spark.createDataFrame(data,columns)\n",
    "display(df)\n"
   ]
  },
  {
   "cell_type": "code",
   "execution_count": 0,
   "metadata": {
    "application/vnd.databricks.v1+cell": {
     "cellMetadata": {
      "byteLimit": 2048000,
      "rowLimit": 10000
     },
     "inputWidgets": {},
     "nuid": "1cb5d30f-ddba-48eb-ad99-b1322c153f11",
     "showTitle": true,
     "tableResultSettingsMap": {},
     "title": "Create Catalog and Database If Not Exists"
    }
   },
   "outputs": [],
   "source": [
    "spark.sql(\"CREATE CATALOG IF NOT EXISTS sample_catalog\")\n",
    "spark.sql(\"CREATE DATABASE IF NOT EXISTS sample_catalog.sample_database\")"
   ]
  },
  {
   "cell_type": "code",
   "execution_count": 0,
   "metadata": {
    "application/vnd.databricks.v1+cell": {
     "cellMetadata": {
      "byteLimit": 2048000,
      "rowLimit": 10000
     },
     "inputWidgets": {},
     "nuid": "07aa2127-ba74-48d6-8c20-acc2e384bd8a",
     "showTitle": false,
     "tableResultSettingsMap": {},
     "title": ""
    }
   },
   "outputs": [],
   "source": [
    "df.write.mode(\"overwrite\").format(\"delta\").saveAsTable(\"sample_catalog.sample_database.salary_table\")"
   ]
  },
  {
   "cell_type": "code",
   "execution_count": 0,
   "metadata": {
    "application/vnd.databricks.v1+cell": {
     "cellMetadata": {
      "byteLimit": 2048000,
      "implicitDf": true,
      "rowLimit": 10000
     },
     "inputWidgets": {},
     "nuid": "290f6da7-a191-41ff-8cda-b1fbce42878f",
     "showTitle": false,
     "tableResultSettingsMap": {},
     "title": ""
    }
   },
   "outputs": [],
   "source": [
    "%sql\n",
    "CREATE OR REPLACE FUNCTION sample_catalog.sample_database.get_salary(\n",
    "  input_name STRING comment 'input_name is used to lookup in the test_table against employee_name feild. for instance if user query is what is the salary of ganesh then employee_anme is ganesh')\n",
    "RETURNS LONG comment 'returns salary of employee_name'\n",
    "LANGUAGE SQL\n",
    "RETURN \n",
    "SELECT salary \n",
    "FROM sample_catalog.sample_database.salary_table WHERE employee_name = input_name\n",
    "limit 1\n",
    ";"
   ]
  },
  {
   "cell_type": "code",
   "execution_count": 0,
   "metadata": {
    "application/vnd.databricks.v1+cell": {
     "cellMetadata": {
      "byteLimit": 2048000,
      "implicitDf": true,
      "rowLimit": 10000
     },
     "inputWidgets": {},
     "nuid": "73ca6d36-72a4-43a9-86b1-eaed31e6489a",
     "showTitle": false,
     "tableResultSettingsMap": {},
     "title": ""
    }
   },
   "outputs": [],
   "source": [
    "%sql\n",
    "select sample_catalog.sample_database.get_salary(\"frank\")"
   ]
  }
 ],
 "metadata": {
  "application/vnd.databricks.v1+notebook": {
   "computePreferences": null,
   "dashboards": [],
   "environmentMetadata": {
    "base_environment": "",
    "environment_version": "2"
   },
   "inputWidgetPreferences": null,
   "language": "python",
   "notebookMetadata": {
    "mostRecentlyExecutedCommandWithImplicitDF": {
     "commandId": 8004693605835006,
     "dataframes": [
      "_sqldf"
     ]
    },
    "pythonIndentUnit": 4
   },
   "notebookName": "prepareUnityCatalogTableAndCreateFunction",
   "widgets": {}
  },
  "language_info": {
   "name": "python"
  }
 },
 "nbformat": 4,
 "nbformat_minor": 0
}
